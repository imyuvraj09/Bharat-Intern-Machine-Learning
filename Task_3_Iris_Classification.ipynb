{
  "nbformat": 4,
  "nbformat_minor": 0,
  "metadata": {
    "colab": {
      "provenance": []
    },
    "kernelspec": {
      "name": "python3",
      "display_name": "Python 3"
    },
    "language_info": {
      "name": "python"
    }
  },
  "cells": [
    {
      "cell_type": "markdown",
      "source": [
        "# TASK-3:\n",
        "\n",
        "## **Iris Classification :**\n",
        "\n",
        "**Develop a ML Model for classifying iris\n",
        "flowers based on their features using\n",
        "Python, scikit-learn, and TensorFlow.**"
      ],
      "metadata": {
        "id": "GXkFrlJs3tcj"
      }
    },
    {
      "cell_type": "code",
      "execution_count": null,
      "metadata": {
        "id": "yxllsuIQqH60"
      },
      "outputs": [],
      "source": [
        "import pandas as pd\n",
        "import numpy as np\n",
        "import matplotlib.pyplot as plt\n",
        "import seaborn as sns\n",
        "from sklearn.model_selection import train_test_split\n",
        "from sklearn.preprocessing import StandardScaler\n",
        "from sklearn.metrics import classification_report, confusion_matrix\n",
        "import tensorflow as tf\n",
        "from tensorflow.keras.models import Sequential\n",
        "from tensorflow.keras.layers import Dense\n"
      ]
    },
    {
      "cell_type": "code",
      "source": [
        "from sklearn.datasets import load_iris\n",
        "\n",
        "iris = load_iris()\n",
        "iris_df = pd.DataFrame(data=iris.data, columns=iris.feature_names)\n",
        "iris_df['species'] = iris.target\n",
        "\n",
        "# Convert numerical labels to categorical labels\n",
        "species_map = {0: 'setosa', 1: 'versicolor', 2: 'virginica'}\n",
        "iris_df['species'] = iris_df['species'].map(species_map)\n",
        "\n",
        "# Save the dataset locally\n",
        "iris_df.to_csv('iris.csv', index=False)\n"
      ],
      "metadata": {
        "id": "-pzjYfJVqPPE"
      },
      "execution_count": null,
      "outputs": []
    },
    {
      "cell_type": "code",
      "source": [
        "# Load dataset\n",
        "df = pd.read_csv('iris.csv')\n",
        "\n",
        "# Select only numerical columns for correlation\n",
        "numerical_df = df.select_dtypes(include=['float', 'int'])\n",
        "\n",
        "# Display the first few rows of the dataset\n",
        "print(df.head())\n",
        "\n",
        "# Summary statistics\n",
        "print(df.describe())\n",
        "\n",
        "# Pairplot\n",
        "sns.pairplot(df, hue='species')\n",
        "plt.show()\n",
        "\n",
        "# Correlation matrix (using only numerical columns)\n",
        "plt.figure(figsize=(10, 8))\n",
        "sns.heatmap(numerical_df.corr(), annot=True, cmap='coolwarm')\n",
        "plt.show()\n"
      ],
      "metadata": {
        "colab": {
          "base_uri": "https://localhost:8080/",
          "height": 1000
        },
        "id": "b9LkJVI3qRBW",
        "outputId": "d9d585ec-a99d-41cf-94a1-be6dfa410b3f"
      },
      "execution_count": null,
      "outputs": [
        {
          "output_type": "stream",
          "name": "stdout",
          "text": [
            "   sepal length (cm)  sepal width (cm)  petal length (cm)  petal width (cm)  \\\n",
            "0                5.1               3.5                1.4               0.2   \n",
            "1                4.9               3.0                1.4               0.2   \n",
            "2                4.7               3.2                1.3               0.2   \n",
            "3                4.6               3.1                1.5               0.2   \n",
            "4                5.0               3.6                1.4               0.2   \n",
            "\n",
            "  species  \n",
            "0  setosa  \n",
            "1  setosa  \n",
            "2  setosa  \n",
            "3  setosa  \n",
            "4  setosa  \n",
            "       sepal length (cm)  sepal width (cm)  petal length (cm)  \\\n",
            "count         150.000000        150.000000         150.000000   \n",
            "mean            5.843333          3.057333           3.758000   \n",
            "std             0.828066          0.435866           1.765298   \n",
            "min             4.300000          2.000000           1.000000   \n",
            "25%             5.100000          2.800000           1.600000   \n",
            "50%             5.800000          3.000000           4.350000   \n",
            "75%             6.400000          3.300000           5.100000   \n",
            "max             7.900000          4.400000           6.900000   \n",
            "\n",
            "       petal width (cm)  \n",
            "count        150.000000  \n",
            "mean           1.199333  \n",
            "std            0.762238  \n",
            "min            0.100000  \n",
            "25%            0.300000  \n",
            "50%            1.300000  \n",
            "75%            1.800000  \n",
            "max            2.500000  \n"
          ]
        },
        {
          "output_type": "display_data",
          "data": {
            "text/plain": [
              "<Figure size 1117.75x1000 with 20 Axes>"
            ],
            "image/png": "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
